{
 "cells": [
  {
   "cell_type": "markdown",
   "metadata": {},
   "source": [
    "# Load JSONL data from a ZST archive"
   ]
  },
  {
   "cell_type": "markdown",
   "metadata": {},
   "source": [
    "Relevant imports:"
   ]
  },
  {
   "cell_type": "code",
   "execution_count": 1,
   "metadata": {},
   "outputs": [],
   "source": [
    "import os\n",
    "import pandas as pd\n",
    "from typing import Any\n",
    "from pathlib import Path\n",
    "from redarch.dev.io import ZST_JSONL"
   ]
  },
  {
   "cell_type": "markdown",
   "metadata": {},
   "source": [
    "## Archive reader"
   ]
  },
  {
   "cell_type": "markdown",
   "metadata": {},
   "source": [
    "Replace the following path with the directory to the ZST archives you want to load from."
   ]
  },
  {
   "cell_type": "code",
   "execution_count": 2,
   "metadata": {},
   "outputs": [],
   "source": [
    "reddit_submissions_dir = Path.home() / \"user/data/external/pushshift/reddit/submissions\""
   ]
  },
  {
   "cell_type": "markdown",
   "metadata": {},
   "source": [
    "It should look something like this."
   ]
  },
  {
   "cell_type": "code",
   "execution_count": 3,
   "metadata": {},
   "outputs": [
    {
     "data": {
      "text/plain": [
       "['RS_2013-09.zst', 'RS_2022-01.zst', 'RS_2008-05.zst']"
      ]
     },
     "execution_count": 3,
     "metadata": {},
     "output_type": "execute_result"
    }
   ],
   "source": [
    "os.listdir(reddit_submissions_dir)[:3]"
   ]
  },
  {
   "cell_type": "markdown",
   "metadata": {},
   "source": [
    "This is the file I'm using here."
   ]
  },
  {
   "cell_type": "code",
   "execution_count": 4,
   "metadata": {},
   "outputs": [
    {
     "name": "stdout",
     "output_type": "stream",
     "text": [
      "RS_2013-09.zst\n"
     ]
    }
   ],
   "source": [
    "post_files: list[Path] = list(Path(reddit_submissions_dir).glob(\"*.zst\"))\n",
    "sample_file: Path = post_files[0]\n",
    "print(sample_file.name)"
   ]
  },
  {
   "cell_type": "markdown",
   "metadata": {},
   "source": [
    "We'll pass that path to the `ZST_JSONL` to create a reader instance."
   ]
  },
  {
   "cell_type": "code",
   "execution_count": 5,
   "metadata": {},
   "outputs": [],
   "source": [
    "reader = ZST_JSONL(sample_file)"
   ]
  },
  {
   "cell_type": "markdown",
   "metadata": {},
   "source": [
    "## Basic usage\n",
    "\n",
    "The reader works more or less like most other pythonic file readers. For instance, you can read in each line like so:\n"
   ]
  },
  {
   "cell_type": "code",
   "execution_count": 6,
   "metadata": {},
   "outputs": [
    {
     "name": "stdout",
     "output_type": "stream",
     "text": [
      "0 {'ups': 2, 'author_flair_css_class': None, 'media': None, 'link_flair_css_class': None, 'is_self': T ...\n",
      "1 {'secure_media_embed': {}, 'media_embed': {}, 'gilded': 0, 'num_comments': 0, 'id': '1ljnek', 'user_ ...\n"
     ]
    }
   ],
   "source": [
    "reader = ZST_JSONL(sample_file)\n",
    "\n",
    "l0 = reader.readline()\n",
    "print(0, str(l0)[:100], \"...\")\n",
    "l1 = reader.readline()\n",
    "print(1, str(l1)[:100], \"...\")"
   ]
  },
  {
   "cell_type": "markdown",
   "metadata": {},
   "source": [
    "Or read multiple lines to a list:"
   ]
  },
  {
   "cell_type": "code",
   "execution_count": 7,
   "metadata": {},
   "outputs": [
    {
     "name": "stdout",
     "output_type": "stream",
     "text": [
      "3\n"
     ]
    }
   ],
   "source": [
    "reader = ZST_JSONL(sample_file)\n",
    "\n",
    "threelines = reader.readlines(n=3)\n",
    "print(len(threelines))"
   ]
  },
  {
   "cell_type": "markdown",
   "metadata": {},
   "source": [
    "You can iterate directly over each JSON line object in the ZST file directly:\n",
    "\n",
    "```python\n",
    "for obj in reader:\n",
    "    ...\n",
    "```\n",
    "\n",
    "For example, printing some lines (just the keys from the lines to avoid console overload):"
   ]
  },
  {
   "cell_type": "code",
   "execution_count": 8,
   "metadata": {},
   "outputs": [
    {
     "name": "stdout",
     "output_type": "stream",
     "text": [
      "dict_keys(['ups', 'author_flair_css_class', 'media', 'link_flair_css_class', 'is_self', 'created_utc', 'selftext', 'subreddit', 'stickied', 'subreddit_id', 'title', 'author', 'url', 'secure_media', 'link_flair_text', 'author_flair_text', 'banned_by', 'domain', 'score', 'permalink', 'over_18', 'num_comments', 'id', 'user_reports', 'gilded', 'media_embed', 'secure_media_embed', 'edited', 'downs', 'distinguished', 'report_reasons', 'thumbnail', 'mod_reports', 'selftext_html', 'retrieved_on'])\n",
      "dict_keys(['secure_media_embed', 'media_embed', 'gilded', 'num_comments', 'id', 'user_reports', 'over_18', 'permalink', 'score', 'domain', 'retrieved_on', 'selftext_html', 'mod_reports', 'thumbnail', 'report_reasons', 'distinguished', 'downs', 'edited', 'created_utc', 'selftext', 'is_self', 'media', 'link_flair_css_class', 'author_flair_css_class', 'ups', 'author_flair_text', 'banned_by', 'link_flair_text', 'secure_media', 'url', 'subreddit_id', 'title', 'author', 'stickied', 'subreddit'])\n",
      "dict_keys(['ups', 'author_flair_css_class', 'link_flair_css_class', 'media', 'is_self', 'created_utc', 'selftext', 'subreddit', 'stickied', 'url', 'title', 'subreddit_id', 'author', 'link_flair_text', 'secure_media', 'banned_by', 'author_flair_text', 'score', 'permalink', 'domain', 'num_comments', 'id', 'user_reports', 'over_18', 'secure_media_embed', 'gilded', 'media_embed', 'downs', 'distinguished', 'report_reasons', 'edited', 'thumbnail', 'retrieved_on', 'selftext_html', 'mod_reports'])\n",
      "dict_keys(['banned_by', 'author_flair_text', 'link_flair_text', 'secure_media', 'url', 'subreddit_id', 'title', 'author', 'subreddit', 'stickied', 'created_utc', 'selftext', 'is_self', 'media', 'link_flair_css_class', 'ups', 'author_flair_css_class', 'retrieved_on', 'mod_reports', 'selftext_html', 'thumbnail', 'downs', 'distinguished', 'report_reasons', 'edited', 'secure_media_embed', 'gilded', 'media_embed', 'num_comments', 'id', 'user_reports', 'over_18', 'score', 'permalink', 'domain'])\n"
     ]
    }
   ],
   "source": [
    "reader = ZST_JSONL(sample_file)\n",
    "\n",
    "count = 0\n",
    "for obj in reader:\n",
    "    print(obj.keys())\n",
    "    if count == 3:\n",
    "        break\n",
    "    count += 1"
   ]
  },
  {
   "cell_type": "markdown",
   "metadata": {},
   "source": [
    "You can reset the cursor to the start of the file with:"
   ]
  },
  {
   "cell_type": "code",
   "execution_count": 9,
   "metadata": {},
   "outputs": [],
   "source": [
    "reader.reset()"
   ]
  },
  {
   "cell_type": "markdown",
   "metadata": {},
   "source": [
    "## Reading a sample"
   ]
  },
  {
   "cell_type": "code",
   "execution_count": 10,
   "metadata": {},
   "outputs": [],
   "source": [
    "# utility function to avoid console overload\n",
    "\n",
    "\n",
    "def fdict(d: dict, keys: list[Any]) -> dict:\n",
    "    return {k: d[k] for k in keys if k in d.keys()}"
   ]
  },
  {
   "cell_type": "markdown",
   "metadata": {},
   "source": [
    "You can load in a sample of posts like this (see the docstring for more info)."
   ]
  },
  {
   "cell_type": "code",
   "execution_count": 11,
   "metadata": {},
   "outputs": [
    {
     "name": "stderr",
     "output_type": "stream",
     "text": [
      "100%|██████████| 20/20 [00:00<00:00, 4796.23it/s]\n"
     ]
    }
   ],
   "source": [
    "data = reader.sample(stop=20)"
   ]
  },
  {
   "cell_type": "markdown",
   "metadata": {},
   "source": [
    "Here's an example."
   ]
  },
  {
   "cell_type": "code",
   "execution_count": 12,
   "metadata": {},
   "outputs": [
    {
     "data": {
      "text/plain": [
       "{'title': 'Tell me reddit, what is on your mind right now?',\n",
       " 'subreddit': 'AskReddit',\n",
       " 'url': 'http://www.reddit.com/r/AskReddit/comments/1ljnel/tell_me_reddit_what_is_on_your_mind_right_now/'}"
      ]
     },
     "execution_count": 12,
     "metadata": {},
     "output_type": "execute_result"
    }
   ],
   "source": [
    "fdict(data[0], [\"title\", \"subreddit\", \"url\"])"
   ]
  },
  {
   "cell_type": "markdown",
   "metadata": {},
   "source": [
    "It's important to note that by default, when you read a sample of data, the stream is reinstantiated internally. As such, read from where you left off, set `reset=False`."
   ]
  },
  {
   "cell_type": "code",
   "execution_count": 13,
   "metadata": {},
   "outputs": [],
   "source": [
    "reader = ZST_JSONL(sample_file)"
   ]
  },
  {
   "cell_type": "code",
   "execution_count": 14,
   "metadata": {},
   "outputs": [
    {
     "name": "stderr",
     "output_type": "stream",
     "text": [
      "0it [00:00, ?it/s]\n"
     ]
    },
    {
     "data": {
      "text/plain": [
       "'http://www.reddit.com/r/AskReddit/comments/1ljnel/tell_me_reddit_what_is_on_your_mind_right_now/'"
      ]
     },
     "execution_count": 14,
     "metadata": {},
     "output_type": "execute_result"
    }
   ],
   "source": [
    "reader.sample(stop=0, reset=False)[0][\"url\"]"
   ]
  },
  {
   "cell_type": "code",
   "execution_count": 15,
   "metadata": {},
   "outputs": [
    {
     "name": "stderr",
     "output_type": "stream",
     "text": [
      "0it [00:00, ?it/s]\n"
     ]
    },
    {
     "data": {
      "text/plain": [
       "'http://www.reddit.com/r/A858DE45F56D9BC9/comments/1ljnek/201309020359/'"
      ]
     },
     "execution_count": 15,
     "metadata": {},
     "output_type": "execute_result"
    }
   ],
   "source": [
    "reader.sample(stop=0, reset=False)[0][\"url\"]"
   ]
  },
  {
   "cell_type": "markdown",
   "metadata": {},
   "source": [
    " To ensure the sample is read from the start, just leave it as the default."
   ]
  },
  {
   "cell_type": "code",
   "execution_count": 16,
   "metadata": {},
   "outputs": [],
   "source": [
    "reader = ZST_JSONL(sample_file)"
   ]
  },
  {
   "cell_type": "code",
   "execution_count": 17,
   "metadata": {},
   "outputs": [
    {
     "name": "stderr",
     "output_type": "stream",
     "text": [
      "0it [00:00, ?it/s]\n"
     ]
    },
    {
     "data": {
      "text/plain": [
       "'http://www.reddit.com/r/AskReddit/comments/1ljnel/tell_me_reddit_what_is_on_your_mind_right_now/'"
      ]
     },
     "execution_count": 17,
     "metadata": {},
     "output_type": "execute_result"
    }
   ],
   "source": [
    "reader.sample(stop=0)[0][\"url\"]"
   ]
  },
  {
   "cell_type": "code",
   "execution_count": 18,
   "metadata": {},
   "outputs": [
    {
     "name": "stderr",
     "output_type": "stream",
     "text": [
      "0it [00:00, ?it/s]\n"
     ]
    },
    {
     "data": {
      "text/plain": [
       "'http://www.reddit.com/r/AskReddit/comments/1ljnel/tell_me_reddit_what_is_on_your_mind_right_now/'"
      ]
     },
     "execution_count": 18,
     "metadata": {},
     "output_type": "execute_result"
    }
   ],
   "source": [
    "reader.sample(stop=0)[0][\"url\"]"
   ]
  },
  {
   "cell_type": "markdown",
   "metadata": {},
   "source": [
    "We can pass a custom parser to control the data structure. Which helps with filtering out unneeded data and validating object schems. A simple example is included below."
   ]
  },
  {
   "cell_type": "code",
   "execution_count": 19,
   "metadata": {},
   "outputs": [],
   "source": [
    "def custom_parser(obj: dict[str, Any]) -> dict[str, Any]:\n",
    "    return {\n",
    "        \"subreddit\": obj[\"subreddit\"],\n",
    "        \"score\": obj[\"score\"],\n",
    "    }"
   ]
  },
  {
   "cell_type": "code",
   "execution_count": 20,
   "metadata": {},
   "outputs": [
    {
     "name": "stderr",
     "output_type": "stream",
     "text": [
      "100%|██████████| 10000/10000 [00:00<00:00, 194526.57it/s]\n"
     ]
    }
   ],
   "source": [
    "data = reader.sample(stop=10_000, parser=custom_parser)"
   ]
  },
  {
   "cell_type": "code",
   "execution_count": 21,
   "metadata": {},
   "outputs": [
    {
     "data": {
      "text/plain": [
       "[{'subreddit': 'AskReddit', 'score': 2},\n",
       " {'subreddit': 'A858DE45F56D9BC9', 'score': 5},\n",
       " {'subreddit': 'videos', 'score': 0}]"
      ]
     },
     "execution_count": 21,
     "metadata": {},
     "output_type": "execute_result"
    }
   ],
   "source": [
    "data[:3]"
   ]
  },
  {
   "cell_type": "code",
   "execution_count": 22,
   "metadata": {},
   "outputs": [],
   "source": [
    "df = pd.DataFrame(data)"
   ]
  },
  {
   "cell_type": "code",
   "execution_count": 23,
   "metadata": {},
   "outputs": [
    {
     "data": {
      "text/html": [
       "<div>\n",
       "<style scoped>\n",
       "    .dataframe tbody tr th:only-of-type {\n",
       "        vertical-align: middle;\n",
       "    }\n",
       "\n",
       "    .dataframe tbody tr th {\n",
       "        vertical-align: top;\n",
       "    }\n",
       "\n",
       "    .dataframe thead th {\n",
       "        text-align: right;\n",
       "    }\n",
       "</style>\n",
       "<table border=\"1\" class=\"dataframe\">\n",
       "  <thead>\n",
       "    <tr style=\"text-align: right;\">\n",
       "      <th></th>\n",
       "      <th>subreddit</th>\n",
       "      <th>score</th>\n",
       "    </tr>\n",
       "  </thead>\n",
       "  <tbody>\n",
       "    <tr>\n",
       "      <th>0</th>\n",
       "      <td>AskReddit</td>\n",
       "      <td>2</td>\n",
       "    </tr>\n",
       "    <tr>\n",
       "      <th>1</th>\n",
       "      <td>A858DE45F56D9BC9</td>\n",
       "      <td>5</td>\n",
       "    </tr>\n",
       "    <tr>\n",
       "      <th>2</th>\n",
       "      <td>videos</td>\n",
       "      <td>0</td>\n",
       "    </tr>\n",
       "    <tr>\n",
       "      <th>3</th>\n",
       "      <td>tits</td>\n",
       "      <td>6</td>\n",
       "    </tr>\n",
       "    <tr>\n",
       "      <th>4</th>\n",
       "      <td>WritersRoom</td>\n",
       "      <td>1</td>\n",
       "    </tr>\n",
       "    <tr>\n",
       "      <th>5</th>\n",
       "      <td>Invites</td>\n",
       "      <td>3</td>\n",
       "    </tr>\n",
       "    <tr>\n",
       "      <th>6</th>\n",
       "      <td>FreeEBOOKS</td>\n",
       "      <td>2</td>\n",
       "    </tr>\n",
       "    <tr>\n",
       "      <th>7</th>\n",
       "      <td>foxes</td>\n",
       "      <td>5</td>\n",
       "    </tr>\n",
       "    <tr>\n",
       "      <th>8</th>\n",
       "      <td>politics</td>\n",
       "      <td>1</td>\n",
       "    </tr>\n",
       "    <tr>\n",
       "      <th>9</th>\n",
       "      <td>Meditation</td>\n",
       "      <td>6</td>\n",
       "    </tr>\n",
       "  </tbody>\n",
       "</table>\n",
       "</div>"
      ],
      "text/plain": [
       "          subreddit  score\n",
       "0         AskReddit      2\n",
       "1  A858DE45F56D9BC9      5\n",
       "2            videos      0\n",
       "3              tits      6\n",
       "4       WritersRoom      1\n",
       "5           Invites      3\n",
       "6        FreeEBOOKS      2\n",
       "7             foxes      5\n",
       "8          politics      1\n",
       "9        Meditation      6"
      ]
     },
     "execution_count": 23,
     "metadata": {},
     "output_type": "execute_result"
    }
   ],
   "source": [
    "df.head(10)"
   ]
  },
  {
   "cell_type": "code",
   "execution_count": 24,
   "metadata": {},
   "outputs": [
    {
     "data": {
      "text/plain": [
       "subreddit\n",
       "funny              390\n",
       "AskReddit          387\n",
       "pics               265\n",
       "leagueoflegends    244\n",
       "AdviceAnimals      240\n",
       "gaming             176\n",
       "aww                141\n",
       "POLITIC            122\n",
       "WTF                113\n",
       "videos             108\n",
       "Name: count, dtype: int64"
      ]
     },
     "execution_count": 24,
     "metadata": {},
     "output_type": "execute_result"
    }
   ],
   "source": [
    "# count the number of submissions from each subreddit in this small sample\n",
    "post_count = df[\"subreddit\"].value_counts()\n",
    "post_count.head(10)"
   ]
  },
  {
   "cell_type": "code",
   "execution_count": 25,
   "metadata": {},
   "outputs": [],
   "source": [
    "# get the average score per post for each subreddit, for subreddits where the post count >= 100 in this sample\n",
    "mean_post_score = (\n",
    "    (df.groupby(\"subreddit\").sum() / df.groupby(\"subreddit\").count())\n",
    "    .sort_values(by=\"score\", ascending=False)\n",
    "    .reset_index()\n",
    ")\n",
    "only_subreddits = post_count[post_count >= 100].index.tolist()\n",
    "mean_post_score = mean_post_score[\n",
    "    mean_post_score[\"subreddit\"].apply(lambda x: x in only_subreddits)\n",
    "].reset_index(drop=True)\n",
    "mean_post_score.columns = [\"subreddit\", \"avg_post_score\"]"
   ]
  },
  {
   "cell_type": "code",
   "execution_count": 26,
   "metadata": {},
   "outputs": [
    {
     "data": {
      "text/html": [
       "<div>\n",
       "<style scoped>\n",
       "    .dataframe tbody tr th:only-of-type {\n",
       "        vertical-align: middle;\n",
       "    }\n",
       "\n",
       "    .dataframe tbody tr th {\n",
       "        vertical-align: top;\n",
       "    }\n",
       "\n",
       "    .dataframe thead th {\n",
       "        text-align: right;\n",
       "    }\n",
       "</style>\n",
       "<table border=\"1\" class=\"dataframe\">\n",
       "  <thead>\n",
       "    <tr style=\"text-align: right;\">\n",
       "      <th></th>\n",
       "      <th>subreddit</th>\n",
       "      <th>avg_post_score</th>\n",
       "    </tr>\n",
       "  </thead>\n",
       "  <tbody>\n",
       "    <tr>\n",
       "      <th>0</th>\n",
       "      <td>WTF</td>\n",
       "      <td>86.690265</td>\n",
       "    </tr>\n",
       "    <tr>\n",
       "      <th>1</th>\n",
       "      <td>funny</td>\n",
       "      <td>65.984615</td>\n",
       "    </tr>\n",
       "    <tr>\n",
       "      <th>2</th>\n",
       "      <td>AdviceAnimals</td>\n",
       "      <td>63.383333</td>\n",
       "    </tr>\n",
       "    <tr>\n",
       "      <th>3</th>\n",
       "      <td>gaming</td>\n",
       "      <td>57.176136</td>\n",
       "    </tr>\n",
       "    <tr>\n",
       "      <th>4</th>\n",
       "      <td>pics</td>\n",
       "      <td>51.633962</td>\n",
       "    </tr>\n",
       "    <tr>\n",
       "      <th>5</th>\n",
       "      <td>aww</td>\n",
       "      <td>42.595745</td>\n",
       "    </tr>\n",
       "    <tr>\n",
       "      <th>6</th>\n",
       "      <td>leagueoflegends</td>\n",
       "      <td>16.028689</td>\n",
       "    </tr>\n",
       "    <tr>\n",
       "      <th>7</th>\n",
       "      <td>videos</td>\n",
       "      <td>12.768519</td>\n",
       "    </tr>\n",
       "    <tr>\n",
       "      <th>8</th>\n",
       "      <td>AskReddit</td>\n",
       "      <td>5.780362</td>\n",
       "    </tr>\n",
       "    <tr>\n",
       "      <th>9</th>\n",
       "      <td>fantasyfootball</td>\n",
       "      <td>3.932692</td>\n",
       "    </tr>\n",
       "    <tr>\n",
       "      <th>10</th>\n",
       "      <td>POLITIC</td>\n",
       "      <td>1.204918</td>\n",
       "    </tr>\n",
       "  </tbody>\n",
       "</table>\n",
       "</div>"
      ],
      "text/plain": [
       "          subreddit  avg_post_score\n",
       "0               WTF       86.690265\n",
       "1             funny       65.984615\n",
       "2     AdviceAnimals       63.383333\n",
       "3            gaming       57.176136\n",
       "4              pics       51.633962\n",
       "5               aww       42.595745\n",
       "6   leagueoflegends       16.028689\n",
       "7            videos       12.768519\n",
       "8         AskReddit        5.780362\n",
       "9   fantasyfootball        3.932692\n",
       "10          POLITIC        1.204918"
      ]
     },
     "execution_count": 26,
     "metadata": {},
     "output_type": "execute_result"
    }
   ],
   "source": [
    "mean_post_score"
   ]
  }
 ],
 "metadata": {
  "kernelspec": {
   "display_name": "redarch",
   "language": "python",
   "name": "python3"
  },
  "language_info": {
   "codemirror_mode": {
    "name": "ipython",
    "version": 3
   },
   "file_extension": ".py",
   "mimetype": "text/x-python",
   "name": "python",
   "nbconvert_exporter": "python",
   "pygments_lexer": "ipython3",
   "version": "3.11.9"
  }
 },
 "nbformat": 4,
 "nbformat_minor": 2
}

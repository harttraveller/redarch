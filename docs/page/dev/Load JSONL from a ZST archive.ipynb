{
 "cells": [
  {
   "cell_type": "markdown",
   "metadata": {},
   "source": [
    "# Load JSONL data from a ZST archive"
   ]
  },
  {
   "cell_type": "markdown",
   "metadata": {},
   "source": [
    "Relevant imports:"
   ]
  },
  {
   "cell_type": "code",
   "execution_count": 1,
   "metadata": {},
   "outputs": [],
   "source": [
    "import os\n",
    "import pandas as pd\n",
    "from typing import Any\n",
    "from pathlib import Path\n",
    "from redarch.dev.io import ZST_JSONL"
   ]
  },
  {
   "cell_type": "markdown",
   "metadata": {},
   "source": [
    "## Archive reader"
   ]
  },
  {
   "cell_type": "markdown",
   "metadata": {},
   "source": [
    "Replace the following path with the directory to the ZST archives you want to load from."
   ]
  },
  {
   "cell_type": "code",
   "execution_count": 2,
   "metadata": {},
   "outputs": [],
   "source": [
    "reddit_submissions_dir = Path.home() / \"user/data/external/pushshift/reddit/submissions\""
   ]
  },
  {
   "cell_type": "markdown",
   "metadata": {},
   "source": [
    "It should look something like this."
   ]
  },
  {
   "cell_type": "code",
   "execution_count": 3,
   "metadata": {},
   "outputs": [
    {
     "data": {
      "text/plain": [
       "['RS_2013-09.zst', 'RS_2022-01.zst', 'RS_2008-05.zst']"
      ]
     },
     "execution_count": 3,
     "metadata": {},
     "output_type": "execute_result"
    }
   ],
   "source": [
    "os.listdir(reddit_submissions_dir)[:3]"
   ]
  },
  {
   "cell_type": "markdown",
   "metadata": {},
   "source": [
    "This is the file I'm using here."
   ]
  },
  {
   "cell_type": "code",
   "execution_count": 4,
   "metadata": {},
   "outputs": [
    {
     "name": "stdout",
     "output_type": "stream",
     "text": [
      "RS_2013-09.zst\n"
     ]
    }
   ],
   "source": [
    "post_files: list[Path] = list(Path(reddit_submissions_dir).glob(\"*.zst\"))\n",
    "sample_file: Path = post_files[0]\n",
    "print(sample_file.name)"
   ]
  },
  {
   "cell_type": "markdown",
   "metadata": {},
   "source": [
    "We'll pass that path to the `ZST_JSONL` to create a reader instance."
   ]
  },
  {
   "cell_type": "code",
   "execution_count": 5,
   "metadata": {},
   "outputs": [],
   "source": [
    "reader = ZST_JSONL(sample_file)"
   ]
  },
  {
   "cell_type": "markdown",
   "metadata": {},
   "source": [
    "## Basic usage\n",
    "\n",
    "The reader works more or less like most other pythonic file readers. For instance, you can read in each line like so:\n"
   ]
  },
  {
   "cell_type": "code",
   "execution_count": 6,
   "metadata": {},
   "outputs": [
    {
     "name": "stdout",
     "output_type": "stream",
     "text": [
      "0 {'ups': 2, 'author_flair_css_class': None, 'media': None, 'link_flair_css_class': None, 'is_self': True, 'created_utc': 1378079998, 'selftext': '', 'subreddit': 'AskReddit', 'stickied': False, 'subreddit_id': 't5_2qh1i', 'title': 'Tell me reddit, what is on your mind right now?', 'author': '98092834092', 'url': 'http://www.reddit.com/r/AskReddit/comments/1ljnel/tell_me_reddit_what_is_on_your_mind_right_now/', 'secure_media': None, 'link_flair_text': None, 'author_flair_text': None, 'banned_by': None, 'domain': 'self.AskReddit', 'score': 2, 'permalink': '/r/AskReddit/comments/1ljnel/tell_me_reddit_what_is_on_your_mind_right_now/', 'over_18': False, 'num_comments': 5, 'id': '1ljnel', 'user_reports': [], 'gilded': 0, 'media_embed': {}, 'secure_media_embed': {}, 'edited': False, 'downs': 0, 'distinguished': None, 'report_reasons': None, 'thumbnail': 'self', 'mod_reports': [], 'selftext_html': None, 'retrieved_on': 1411870497}\n",
      "1 {'secure_media_embed': {}, 'media_embed': {}, 'gilded': 0, 'num_comments': 0, 'id': '1ljnek', 'user_reports': [], 'over_18': False, 'permalink': '/r/A858DE45F56D9BC9/comments/1ljnek/201309020359/', 'score': 5, 'domain': 'self.A858DE45F56D9BC9', 'retrieved_on': 1411870497, 'selftext_html': '&lt;!-- SC_OFF --&gt;&lt;div class=\"md\"&gt;&lt;p&gt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lt;/p&gt;\\n&lt;/div&gt;&lt;!-- SC_ON --&gt;', 'mod_reports': [], 'thumbnail': 'default', 'report_reasons': None, 'distinguished': None, 'downs': 0, 'edited': False, 'created_utc': 1378079998, 'selftext': '22ECB65B31FE957E 63C0A528BB9AA843 F21E3FFBD1A58F7A F349E095A7346C61 FCA7700E60085A2C A3A3EDF99DBAA3C5 4B6E54C3E308D491 73531D6678AEC2D8 B8E58A76E41E717B D048BE81023A03F9 30215D3C16EF54C8 4095C7456FBE9198 5B3EFA9A04D1EF43 D92FF93705EB8F1F E889BE0EB9A2A779 89E88ED94A43217B CFD3AD6CF14EC20F 869C2B9AEED4F451 1493A34C770CB5FD 79CB439CE38E3660 562C7D1662F1362E 4C41DB50B563B0F1 54A018E7DBF5A3BF 6D738887D0934FE2 C7BDE1F698B31748 1767DE17EB1B1710 5D1EF38728A96063 9CAA757E7A114725 85DE3DAE439E851E 26BE7A1C4ACEF484 497B58E0264D9AAF 2DAAE643E7A13BA6 12E8DB56051BBC0E F347152DA93EFE78 F22984FA8D3DD66A BBEE671C5D4C93DB E6ADEC24E4A1AAE9 4B50F604BF735001 E131B21ED118151A 91336EAC3B406593 04D2E977F927C2E5 49F680CEB75446E1 449CC68D2BE0674C 9106066C4EE12A46 22A1B751484E3744 174F67F61FA975AB 7406FE98444B3F03 F24ECAFB27E9A9FA 948B46B20ACA09D6 92BF985284386828 376D502B04646533 463BE0826E1B14C2 3D1E1F3D89371536 8570768B2C512F70 0826B287F04C97F1 7678A403159D89D7 05059A919C15FE71 B4FC31818DE14128 6523441F5CE6BF20 EA82F4826BB1D5D3 4520BBEE6DEE5326 3E9193705C77F43B 25C65675A510E747 23F01A38C3E1E0FC A14C20AD6419255F 788C1AAF21241ECB 7E8AEE1F93C69A57 14DB08CB75081BDE 37F5EDD0B29FC866 B702310E871F016B 95E2B5C7BA5A48A4 1E2D50C37F2FDDC3 5340DC9874DB0605 0611F41E8AC7AF1B D7DEFF3D5DCD176E 19B44DEE5CDB4D78 9FD33C4060E7052A D8A05184C0445FD5 3D0B0CDA99B7BCCE 8903AC2A3B27DB0E ECEB787356C8F8A2 D5A32D43FC18D9CC 3535433CFBE06262 1853CE291BB6BD37 63C14830BBE07AB1 BFCB1CA5B1A230A6 0686C861C8A664B0 41378362ECC0CA22 0E5A115FD042F551 FCE8209813F5867C 1E58B5D8EB4C0ACE 224A332FBABFFE85 E410F6C1A6FE8B10 6A9DFE75541AD5F0 80DB154BBCB362BF B814D55CF8821FBC 0CA882A5D3B4945A 18FE2B2746BF3A6F C42B988D1A1097C5 7E9EEB89C0FA98C6 A5E6D5E17028DACD 920B2B343F557180 A1DD173BB1C7C465 8FCF440407F90D84 506512D4E12364D8 C63DB4BA47A7BEEE D71A20E17A514EB2 7C447A873FF88597 8348CE52EA7BAFC6 B34144AD49D2BDF7 D134E9ED9277D1C9 5F4178B16B0AFE7C 1662712E81ED40E4 4B760419998140F5 9A2E11A73CB20673 64079252C487F799 EC06FE5BDF5F267C 3BDD6D414D69F405 AF97D20C91A9E074 E7E4730C5A99CAA6 7CD3D27B3CD4A8C2 9468E81256D2D895 E8DF1F92A545FEAE DE6B542E4A9107A6 5C6DDB333B70251C 259C99B4617F4BCD A820A6EC57AA1536 09B7F8C452EB433C F002664BC335B577 E3DF49654D41BFD6 008E2829343B180C 279C6F1C172C08AB 472786C2AADDD2D2 D42B229EB02161D0 889BA997A5C8BC32 B406F5017ADCDE1D EDB22870BCDD56EF 285704E089C0BACE C81F257C23FBEFC5 3971DE3D70EFBB1B FAAF3ABB1ED3FAC4 FBA7CE11E562784F B75B57643D73BB5F CCF858D9A0BE1CD8 E55B4CA490B8B748 B9A7591C362750F9 08D512479D465765 59EEDCB5AB563F95 7044975AA5BAA017 305355AF545C22BB DCE37880F709969A 7317B933109E4FB9 10EFB5CBF8A9F12A F59B719E5C946D56 C1C6A19B2A94190D 4A72BD2B71754E4C 9D85E60A5072118D DA540841BEF31589 89C802FEC32BB74C 682DE3CD459745C8 5A2E67D1806C84BC ', 'is_self': True, 'media': None, 'link_flair_css_class': None, 'author_flair_css_class': None, 'ups': 5, 'author_flair_text': None, 'banned_by': None, 'link_flair_text': None, 'secure_media': None, 'url': 'http://www.reddit.com/r/A858DE45F56D9BC9/comments/1ljnek/201309020359/', 'subreddit_id': 't5_2sape', 'title': '201309020359', 'author': '[deleted]', 'stickied': False, 'subreddit': 'A858DE45F56D9BC9'}\n"
     ]
    }
   ],
   "source": [
    "reader = ZST_JSONL(sample_file)\n",
    "\n",
    "l0 = reader.readline()\n",
    "print(0, l0)\n",
    "l1 = reader.readline()\n",
    "print(1, l1)"
   ]
  },
  {
   "cell_type": "markdown",
   "metadata": {},
   "source": [
    "Or read multiple lines to a list:"
   ]
  },
  {
   "cell_type": "code",
   "execution_count": 7,
   "metadata": {},
   "outputs": [
    {
     "name": "stdout",
     "output_type": "stream",
     "text": [
      "[{'ups': 2, 'author_flair_css_class': None, 'media': None, 'link_flair_css_class': None, 'is_self': True, 'created_utc': 1378079998, 'selftext': '', 'subreddit': 'AskReddit', 'stickied': False, 'subreddit_id': 't5_2qh1i', 'title': 'Tell me reddit, what is on your mind right now?', 'author': '98092834092', 'url': 'http://www.reddit.com/r/AskReddit/comments/1ljnel/tell_me_reddit_what_is_on_your_mind_right_now/', 'secure_media': None, 'link_flair_text': None, 'author_flair_text': None, 'banned_by': None, 'domain': 'self.AskReddit', 'score': 2, 'permalink': '/r/AskReddit/comments/1ljnel/tell_me_reddit_what_is_on_your_mind_right_now/', 'over_18': False, 'num_comments': 5, 'id': '1ljnel', 'user_reports': [], 'gilded': 0, 'media_embed': {}, 'secure_media_embed': {}, 'edited': False, 'downs': 0, 'distinguished': None, 'report_reasons': None, 'thumbnail': 'self', 'mod_reports': [], 'selftext_html': None, 'retrieved_on': 1411870497}, {'secure_media_embed': {}, 'media_embed': {}, 'gilded': 0, 'num_comments': 0, 'id': '1ljnek', 'user_reports': [], 'over_18': False, 'permalink': '/r/A858DE45F56D9BC9/comments/1ljnek/201309020359/', 'score': 5, 'domain': 'self.A858DE45F56D9BC9', 'retrieved_on': 1411870497, 'selftext_html': '&lt;!-- SC_OFF --&gt;&lt;div class=\"md\"&gt;&lt;p&gt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lt;/p&gt;\\n&lt;/div&gt;&lt;!-- SC_ON --&gt;', 'mod_reports': [], 'thumbnail': 'default', 'report_reasons': None, 'distinguished': None, 'downs': 0, 'edited': False, 'created_utc': 1378079998, 'selftext': '22ECB65B31FE957E 63C0A528BB9AA843 F21E3FFBD1A58F7A F349E095A7346C61 FCA7700E60085A2C A3A3EDF99DBAA3C5 4B6E54C3E308D491 73531D6678AEC2D8 B8E58A76E41E717B D048BE81023A03F9 30215D3C16EF54C8 4095C7456FBE9198 5B3EFA9A04D1EF43 D92FF93705EB8F1F E889BE0EB9A2A779 89E88ED94A43217B CFD3AD6CF14EC20F 869C2B9AEED4F451 1493A34C770CB5FD 79CB439CE38E3660 562C7D1662F1362E 4C41DB50B563B0F1 54A018E7DBF5A3BF 6D738887D0934FE2 C7BDE1F698B31748 1767DE17EB1B1710 5D1EF38728A96063 9CAA757E7A114725 85DE3DAE439E851E 26BE7A1C4ACEF484 497B58E0264D9AAF 2DAAE643E7A13BA6 12E8DB56051BBC0E F347152DA93EFE78 F22984FA8D3DD66A BBEE671C5D4C93DB E6ADEC24E4A1AAE9 4B50F604BF735001 E131B21ED118151A 91336EAC3B406593 04D2E977F927C2E5 49F680CEB75446E1 449CC68D2BE0674C 9106066C4EE12A46 22A1B751484E3744 174F67F61FA975AB 7406FE98444B3F03 F24ECAFB27E9A9FA 948B46B20ACA09D6 92BF985284386828 376D502B04646533 463BE0826E1B14C2 3D1E1F3D89371536 8570768B2C512F70 0826B287F04C97F1 7678A403159D89D7 05059A919C15FE71 B4FC31818DE14128 6523441F5CE6BF20 EA82F4826BB1D5D3 4520BBEE6DEE5326 3E9193705C77F43B 25C65675A510E747 23F01A38C3E1E0FC A14C20AD6419255F 788C1AAF21241ECB 7E8AEE1F93C69A57 14DB08CB75081BDE 37F5EDD0B29FC866 B702310E871F016B 95E2B5C7BA5A48A4 1E2D50C37F2FDDC3 5340DC9874DB0605 0611F41E8AC7AF1B D7DEFF3D5DCD176E 19B44DEE5CDB4D78 9FD33C4060E7052A D8A05184C0445FD5 3D0B0CDA99B7BCCE 8903AC2A3B27DB0E ECEB787356C8F8A2 D5A32D43FC18D9CC 3535433CFBE06262 1853CE291BB6BD37 63C14830BBE07AB1 BFCB1CA5B1A230A6 0686C861C8A664B0 41378362ECC0CA22 0E5A115FD042F551 FCE8209813F5867C 1E58B5D8EB4C0ACE 224A332FBABFFE85 E410F6C1A6FE8B10 6A9DFE75541AD5F0 80DB154BBCB362BF B814D55CF8821FBC 0CA882A5D3B4945A 18FE2B2746BF3A6F C42B988D1A1097C5 7E9EEB89C0FA98C6 A5E6D5E17028DACD 920B2B343F557180 A1DD173BB1C7C465 8FCF440407F90D84 506512D4E12364D8 C63DB4BA47A7BEEE D71A20E17A514EB2 7C447A873FF88597 8348CE52EA7BAFC6 B34144AD49D2BDF7 D134E9ED9277D1C9 5F4178B16B0AFE7C 1662712E81ED40E4 4B760419998140F5 9A2E11A73CB20673 64079252C487F799 EC06FE5BDF5F267C 3BDD6D414D69F405 AF97D20C91A9E074 E7E4730C5A99CAA6 7CD3D27B3CD4A8C2 9468E81256D2D895 E8DF1F92A545FEAE DE6B542E4A9107A6 5C6DDB333B70251C 259C99B4617F4BCD A820A6EC57AA1536 09B7F8C452EB433C F002664BC335B577 E3DF49654D41BFD6 008E2829343B180C 279C6F1C172C08AB 472786C2AADDD2D2 D42B229EB02161D0 889BA997A5C8BC32 B406F5017ADCDE1D EDB22870BCDD56EF 285704E089C0BACE C81F257C23FBEFC5 3971DE3D70EFBB1B FAAF3ABB1ED3FAC4 FBA7CE11E562784F B75B57643D73BB5F CCF858D9A0BE1CD8 E55B4CA490B8B748 B9A7591C362750F9 08D512479D465765 59EEDCB5AB563F95 7044975AA5BAA017 305355AF545C22BB DCE37880F709969A 7317B933109E4FB9 10EFB5CBF8A9F12A F59B719E5C946D56 C1C6A19B2A94190D 4A72BD2B71754E4C 9D85E60A5072118D DA540841BEF31589 89C802FEC32BB74C 682DE3CD459745C8 5A2E67D1806C84BC ', 'is_self': True, 'media': None, 'link_flair_css_class': None, 'author_flair_css_class': None, 'ups': 5, 'author_flair_text': None, 'banned_by': None, 'link_flair_text': None, 'secure_media': None, 'url': 'http://www.reddit.com/r/A858DE45F56D9BC9/comments/1ljnek/201309020359/', 'subreddit_id': 't5_2sape', 'title': '201309020359', 'author': '[deleted]', 'stickied': False, 'subreddit': 'A858DE45F56D9BC9'}, {'ups': 0, 'author_flair_css_class': None, 'link_flair_css_class': None, 'media': {'oembed': {'provider_name': 'YouTube', 'thumbnail_width': 480, 'url': 'http://www.youtube.com/watch?v=QvUmsKcxIH0', 'title': 'Smack Cam- Cup Song Edition', 'html': '&lt;iframe width=\"600\" height=\"450\" src=\"http://www.youtube.com/embed/QvUmsKcxIH0?feature=oembed\" frameborder=\"0\" allowfullscreen&gt;&lt;/iframe&gt;', 'thumbnail_url': 'http://i1.ytimg.com/vi/QvUmsKcxIH0/hqdefault.jpg', 'provider_url': 'http://www.youtube.com/', 'author_name': 'Joshua Knight', 'type': 'video', 'description': 'Originally an Instavideo. Doing it for MAXJR', 'version': '1.0', 'height': 450, 'width': 600, 'author_url': 'http://www.youtube.com/channel/UC2q7vJmxyerRjFMcNKkWi5A', 'thumbnail_height': 360}, 'type': 'youtube.com'}, 'is_self': False, 'created_utc': 1378079997, 'selftext': '', 'subreddit': 'videos', 'stickied': False, 'url': 'http://www.youtube.com/watch?v=QvUmsKcxIH0', 'title': 'Smack Cam-Cup Song Edition', 'subreddit_id': 't5_2qh1e', 'author': '[deleted]', 'link_flair_text': None, 'secure_media': None, 'banned_by': None, 'author_flair_text': None, 'score': 0, 'permalink': '/r/videos/comments/1ljnej/smack_camcup_song_edition/', 'domain': 'youtube.com', 'num_comments': 0, 'id': '1ljnej', 'user_reports': [], 'over_18': False, 'secure_media_embed': {}, 'gilded': 0, 'media_embed': {'scrolling': False, 'width': 600, 'height': 450, 'content': '&lt;iframe width=\"600\" height=\"450\" src=\"http://www.youtube.com/embed/QvUmsKcxIH0?feature=oembed\" frameborder=\"0\" allowfullscreen&gt;&lt;/iframe&gt;'}, 'downs': 0, 'distinguished': None, 'report_reasons': None, 'edited': False, 'thumbnail': 'default', 'retrieved_on': 1411870497, 'selftext_html': None, 'mod_reports': []}]\n"
     ]
    }
   ],
   "source": [
    "reader = ZST_JSONL(sample_file)\n",
    "\n",
    "threelines = reader.readlines(n=3)\n",
    "print(threelines)"
   ]
  },
  {
   "cell_type": "markdown",
   "metadata": {},
   "source": [
    "You can iterate directly over each JSON line object in the ZST file directly:\n",
    "\n",
    "```python\n",
    "for obj in reader:\n",
    "    ...\n",
    "```\n",
    "\n",
    "For example, printing some lines:"
   ]
  },
  {
   "cell_type": "code",
   "execution_count": 8,
   "metadata": {},
   "outputs": [
    {
     "name": "stdout",
     "output_type": "stream",
     "text": [
      "{'ups': 2, 'author_flair_css_class': None, 'media': None, 'link_flair_css_class': None, 'is_self': True, 'created_utc': 1378079998, 'selftext': '', 'subreddit': 'AskReddit', 'stickied': False, 'subreddit_id': 't5_2qh1i', 'title': 'Tell me reddit, what is on your mind right now?', 'author': '98092834092', 'url': 'http://www.reddit.com/r/AskReddit/comments/1ljnel/tell_me_reddit_what_is_on_your_mind_right_now/', 'secure_media': None, 'link_flair_text': None, 'author_flair_text': None, 'banned_by': None, 'domain': 'self.AskReddit', 'score': 2, 'permalink': '/r/AskReddit/comments/1ljnel/tell_me_reddit_what_is_on_your_mind_right_now/', 'over_18': False, 'num_comments': 5, 'id': '1ljnel', 'user_reports': [], 'gilded': 0, 'media_embed': {}, 'secure_media_embed': {}, 'edited': False, 'downs': 0, 'distinguished': None, 'report_reasons': None, 'thumbnail': 'self', 'mod_reports': [], 'selftext_html': None, 'retrieved_on': 1411870497}\n",
      "{'secure_media_embed': {}, 'media_embed': {}, 'gilded': 0, 'num_comments': 0, 'id': '1ljnek', 'user_reports': [], 'over_18': False, 'permalink': '/r/A858DE45F56D9BC9/comments/1ljnek/201309020359/', 'score': 5, 'domain': 'self.A858DE45F56D9BC9', 'retrieved_on': 1411870497, 'selftext_html': '&lt;!-- SC_OFF --&gt;&lt;div class=\"md\"&gt;&lt;p&gt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lt;/p&gt;\\n&lt;/div&gt;&lt;!-- SC_ON --&gt;', 'mod_reports': [], 'thumbnail': 'default', 'report_reasons': None, 'distinguished': None, 'downs': 0, 'edited': False, 'created_utc': 1378079998, 'selftext': '22ECB65B31FE957E 63C0A528BB9AA843 F21E3FFBD1A58F7A F349E095A7346C61 FCA7700E60085A2C A3A3EDF99DBAA3C5 4B6E54C3E308D491 73531D6678AEC2D8 B8E58A76E41E717B D048BE81023A03F9 30215D3C16EF54C8 4095C7456FBE9198 5B3EFA9A04D1EF43 D92FF93705EB8F1F E889BE0EB9A2A779 89E88ED94A43217B CFD3AD6CF14EC20F 869C2B9AEED4F451 1493A34C770CB5FD 79CB439CE38E3660 562C7D1662F1362E 4C41DB50B563B0F1 54A018E7DBF5A3BF 6D738887D0934FE2 C7BDE1F698B31748 1767DE17EB1B1710 5D1EF38728A96063 9CAA757E7A114725 85DE3DAE439E851E 26BE7A1C4ACEF484 497B58E0264D9AAF 2DAAE643E7A13BA6 12E8DB56051BBC0E F347152DA93EFE78 F22984FA8D3DD66A BBEE671C5D4C93DB E6ADEC24E4A1AAE9 4B50F604BF735001 E131B21ED118151A 91336EAC3B406593 04D2E977F927C2E5 49F680CEB75446E1 449CC68D2BE0674C 9106066C4EE12A46 22A1B751484E3744 174F67F61FA975AB 7406FE98444B3F03 F24ECAFB27E9A9FA 948B46B20ACA09D6 92BF985284386828 376D502B04646533 463BE0826E1B14C2 3D1E1F3D89371536 8570768B2C512F70 0826B287F04C97F1 7678A403159D89D7 05059A919C15FE71 B4FC31818DE14128 6523441F5CE6BF20 EA82F4826BB1D5D3 4520BBEE6DEE5326 3E9193705C77F43B 25C65675A510E747 23F01A38C3E1E0FC A14C20AD6419255F 788C1AAF21241ECB 7E8AEE1F93C69A57 14DB08CB75081BDE 37F5EDD0B29FC866 B702310E871F016B 95E2B5C7BA5A48A4 1E2D50C37F2FDDC3 5340DC9874DB0605 0611F41E8AC7AF1B D7DEFF3D5DCD176E 19B44DEE5CDB4D78 9FD33C4060E7052A D8A05184C0445FD5 3D0B0CDA99B7BCCE 8903AC2A3B27DB0E ECEB787356C8F8A2 D5A32D43FC18D9CC 3535433CFBE06262 1853CE291BB6BD37 63C14830BBE07AB1 BFCB1CA5B1A230A6 0686C861C8A664B0 41378362ECC0CA22 0E5A115FD042F551 FCE8209813F5867C 1E58B5D8EB4C0ACE 224A332FBABFFE85 E410F6C1A6FE8B10 6A9DFE75541AD5F0 80DB154BBCB362BF B814D55CF8821FBC 0CA882A5D3B4945A 18FE2B2746BF3A6F C42B988D1A1097C5 7E9EEB89C0FA98C6 A5E6D5E17028DACD 920B2B343F557180 A1DD173BB1C7C465 8FCF440407F90D84 506512D4E12364D8 C63DB4BA47A7BEEE D71A20E17A514EB2 7C447A873FF88597 8348CE52EA7BAFC6 B34144AD49D2BDF7 D134E9ED9277D1C9 5F4178B16B0AFE7C 1662712E81ED40E4 4B760419998140F5 9A2E11A73CB20673 64079252C487F799 EC06FE5BDF5F267C 3BDD6D414D69F405 AF97D20C91A9E074 E7E4730C5A99CAA6 7CD3D27B3CD4A8C2 9468E81256D2D895 E8DF1F92A545FEAE DE6B542E4A9107A6 5C6DDB333B70251C 259C99B4617F4BCD A820A6EC57AA1536 09B7F8C452EB433C F002664BC335B577 E3DF49654D41BFD6 008E2829343B180C 279C6F1C172C08AB 472786C2AADDD2D2 D42B229EB02161D0 889BA997A5C8BC32 B406F5017ADCDE1D EDB22870BCDD56EF 285704E089C0BACE C81F257C23FBEFC5 3971DE3D70EFBB1B FAAF3ABB1ED3FAC4 FBA7CE11E562784F B75B57643D73BB5F CCF858D9A0BE1CD8 E55B4CA490B8B748 B9A7591C362750F9 08D512479D465765 59EEDCB5AB563F95 7044975AA5BAA017 305355AF545C22BB DCE37880F709969A 7317B933109E4FB9 10EFB5CBF8A9F12A F59B719E5C946D56 C1C6A19B2A94190D 4A72BD2B71754E4C 9D85E60A5072118D DA540841BEF31589 89C802FEC32BB74C 682DE3CD459745C8 5A2E67D1806C84BC ', 'is_self': True, 'media': None, 'link_flair_css_class': None, 'author_flair_css_class': None, 'ups': 5, 'author_flair_text': None, 'banned_by': None, 'link_flair_text': None, 'secure_media': None, 'url': 'http://www.reddit.com/r/A858DE45F56D9BC9/comments/1ljnek/201309020359/', 'subreddit_id': 't5_2sape', 'title': '201309020359', 'author': '[deleted]', 'stickied': False, 'subreddit': 'A858DE45F56D9BC9'}\n",
      "{'ups': 0, 'author_flair_css_class': None, 'link_flair_css_class': None, 'media': {'oembed': {'provider_name': 'YouTube', 'thumbnail_width': 480, 'url': 'http://www.youtube.com/watch?v=QvUmsKcxIH0', 'title': 'Smack Cam- Cup Song Edition', 'html': '&lt;iframe width=\"600\" height=\"450\" src=\"http://www.youtube.com/embed/QvUmsKcxIH0?feature=oembed\" frameborder=\"0\" allowfullscreen&gt;&lt;/iframe&gt;', 'thumbnail_url': 'http://i1.ytimg.com/vi/QvUmsKcxIH0/hqdefault.jpg', 'provider_url': 'http://www.youtube.com/', 'author_name': 'Joshua Knight', 'type': 'video', 'description': 'Originally an Instavideo. Doing it for MAXJR', 'version': '1.0', 'height': 450, 'width': 600, 'author_url': 'http://www.youtube.com/channel/UC2q7vJmxyerRjFMcNKkWi5A', 'thumbnail_height': 360}, 'type': 'youtube.com'}, 'is_self': False, 'created_utc': 1378079997, 'selftext': '', 'subreddit': 'videos', 'stickied': False, 'url': 'http://www.youtube.com/watch?v=QvUmsKcxIH0', 'title': 'Smack Cam-Cup Song Edition', 'subreddit_id': 't5_2qh1e', 'author': '[deleted]', 'link_flair_text': None, 'secure_media': None, 'banned_by': None, 'author_flair_text': None, 'score': 0, 'permalink': '/r/videos/comments/1ljnej/smack_camcup_song_edition/', 'domain': 'youtube.com', 'num_comments': 0, 'id': '1ljnej', 'user_reports': [], 'over_18': False, 'secure_media_embed': {}, 'gilded': 0, 'media_embed': {'scrolling': False, 'width': 600, 'height': 450, 'content': '&lt;iframe width=\"600\" height=\"450\" src=\"http://www.youtube.com/embed/QvUmsKcxIH0?feature=oembed\" frameborder=\"0\" allowfullscreen&gt;&lt;/iframe&gt;'}, 'downs': 0, 'distinguished': None, 'report_reasons': None, 'edited': False, 'thumbnail': 'default', 'retrieved_on': 1411870497, 'selftext_html': None, 'mod_reports': []}\n",
      "{'banned_by': None, 'author_flair_text': None, 'link_flair_text': None, 'secure_media': None, 'url': 'http://i.imgur.com/r9MUNJl.jpg', 'subreddit_id': 't5_2qm4i', 'title': 'Cowgirl', 'author': 'pepsi_next', 'subreddit': 'tits', 'stickied': False, 'created_utc': 1378079996, 'selftext': '', 'is_self': False, 'media': None, 'link_flair_css_class': None, 'ups': 6, 'author_flair_css_class': None, 'retrieved_on': 1411870497, 'mod_reports': [], 'selftext_html': None, 'thumbnail': 'nsfw', 'downs': 0, 'distinguished': None, 'report_reasons': None, 'edited': False, 'secure_media_embed': {}, 'gilded': 0, 'media_embed': {}, 'num_comments': 0, 'id': '1ljnei', 'user_reports': [], 'over_18': True, 'score': 6, 'permalink': '/r/tits/comments/1ljnei/cowgirl/', 'domain': 'i.imgur.com'}\n"
     ]
    }
   ],
   "source": [
    "reader = ZST_JSONL(sample_file)\n",
    "\n",
    "count = 0\n",
    "for obj in reader:\n",
    "    print(obj)\n",
    "    if count == 3:\n",
    "        break\n",
    "    count += 1"
   ]
  },
  {
   "cell_type": "markdown",
   "metadata": {},
   "source": [
    "You can reset the cursor to the start of the file with:"
   ]
  },
  {
   "cell_type": "code",
   "execution_count": 9,
   "metadata": {},
   "outputs": [],
   "source": [
    "reader.reset()"
   ]
  },
  {
   "cell_type": "markdown",
   "metadata": {},
   "source": [
    "## Reading a sample"
   ]
  },
  {
   "cell_type": "markdown",
   "metadata": {},
   "source": [
    "You can load in a sample of posts like this (see the docstring for more info)."
   ]
  },
  {
   "cell_type": "code",
   "execution_count": 10,
   "metadata": {},
   "outputs": [
    {
     "name": "stderr",
     "output_type": "stream",
     "text": [
      "100%|██████████| 20/20 [00:00<00:00, 11737.24it/s]\n"
     ]
    }
   ],
   "source": [
    "data = reader.sample(stop=20)"
   ]
  },
  {
   "cell_type": "markdown",
   "metadata": {},
   "source": [
    "Here's an example."
   ]
  },
  {
   "cell_type": "code",
   "execution_count": 11,
   "metadata": {},
   "outputs": [
    {
     "data": {
      "text/plain": [
       "{'ups': 2,\n",
       " 'author_flair_css_class': None,\n",
       " 'media': None,\n",
       " 'link_flair_css_class': None,\n",
       " 'is_self': True,\n",
       " 'created_utc': 1378079998,\n",
       " 'selftext': '',\n",
       " 'subreddit': 'AskReddit',\n",
       " 'stickied': False,\n",
       " 'subreddit_id': 't5_2qh1i',\n",
       " 'title': 'Tell me reddit, what is on your mind right now?',\n",
       " 'author': '98092834092',\n",
       " 'url': 'http://www.reddit.com/r/AskReddit/comments/1ljnel/tell_me_reddit_what_is_on_your_mind_right_now/',\n",
       " 'secure_media': None,\n",
       " 'link_flair_text': None,\n",
       " 'author_flair_text': None,\n",
       " 'banned_by': None,\n",
       " 'domain': 'self.AskReddit',\n",
       " 'score': 2,\n",
       " 'permalink': '/r/AskReddit/comments/1ljnel/tell_me_reddit_what_is_on_your_mind_right_now/',\n",
       " 'over_18': False,\n",
       " 'num_comments': 5,\n",
       " 'id': '1ljnel',\n",
       " 'user_reports': [],\n",
       " 'gilded': 0,\n",
       " 'media_embed': {},\n",
       " 'secure_media_embed': {},\n",
       " 'edited': False,\n",
       " 'downs': 0,\n",
       " 'distinguished': None,\n",
       " 'report_reasons': None,\n",
       " 'thumbnail': 'self',\n",
       " 'mod_reports': [],\n",
       " 'selftext_html': None,\n",
       " 'retrieved_on': 1411870497}"
      ]
     },
     "execution_count": 11,
     "metadata": {},
     "output_type": "execute_result"
    }
   ],
   "source": [
    "data[0]"
   ]
  },
  {
   "cell_type": "markdown",
   "metadata": {},
   "source": [
    "It's important to note that by default, when you read a sample of data, the stream is reinstantiated internally. As such, read from where you left off, set `reset=False`."
   ]
  },
  {
   "cell_type": "code",
   "execution_count": 12,
   "metadata": {},
   "outputs": [],
   "source": [
    "reader = ZST_JSONL(sample_file)"
   ]
  },
  {
   "cell_type": "code",
   "execution_count": 13,
   "metadata": {},
   "outputs": [
    {
     "name": "stderr",
     "output_type": "stream",
     "text": [
      "0it [00:00, ?it/s]\n"
     ]
    },
    {
     "data": {
      "text/plain": [
       "'http://www.reddit.com/r/AskReddit/comments/1ljnel/tell_me_reddit_what_is_on_your_mind_right_now/'"
      ]
     },
     "execution_count": 13,
     "metadata": {},
     "output_type": "execute_result"
    }
   ],
   "source": [
    "reader.sample(stop=0, reset=False)[0][\"url\"]"
   ]
  },
  {
   "cell_type": "code",
   "execution_count": 14,
   "metadata": {},
   "outputs": [
    {
     "name": "stderr",
     "output_type": "stream",
     "text": [
      "0it [00:00, ?it/s]\n"
     ]
    },
    {
     "data": {
      "text/plain": [
       "'http://www.reddit.com/r/A858DE45F56D9BC9/comments/1ljnek/201309020359/'"
      ]
     },
     "execution_count": 14,
     "metadata": {},
     "output_type": "execute_result"
    }
   ],
   "source": [
    "reader.sample(stop=0, reset=False)[0][\"url\"]"
   ]
  },
  {
   "cell_type": "markdown",
   "metadata": {},
   "source": [
    " To ensure the sample is read from the start, just leave it as the default."
   ]
  },
  {
   "cell_type": "code",
   "execution_count": 15,
   "metadata": {},
   "outputs": [],
   "source": [
    "reader = ZST_JSONL(sample_file)"
   ]
  },
  {
   "cell_type": "code",
   "execution_count": 16,
   "metadata": {},
   "outputs": [
    {
     "name": "stderr",
     "output_type": "stream",
     "text": [
      "0it [00:00, ?it/s]\n"
     ]
    },
    {
     "data": {
      "text/plain": [
       "'http://www.reddit.com/r/AskReddit/comments/1ljnel/tell_me_reddit_what_is_on_your_mind_right_now/'"
      ]
     },
     "execution_count": 16,
     "metadata": {},
     "output_type": "execute_result"
    }
   ],
   "source": [
    "reader.sample(stop=0)[0][\"url\"]"
   ]
  },
  {
   "cell_type": "code",
   "execution_count": 17,
   "metadata": {},
   "outputs": [
    {
     "name": "stderr",
     "output_type": "stream",
     "text": [
      "0it [00:00, ?it/s]\n"
     ]
    },
    {
     "data": {
      "text/plain": [
       "'http://www.reddit.com/r/AskReddit/comments/1ljnel/tell_me_reddit_what_is_on_your_mind_right_now/'"
      ]
     },
     "execution_count": 17,
     "metadata": {},
     "output_type": "execute_result"
    }
   ],
   "source": [
    "reader.sample(stop=0)[0][\"url\"]"
   ]
  },
  {
   "cell_type": "markdown",
   "metadata": {},
   "source": [
    "We can pass a custom parser to control the data structure. Which helps with filtering out unneeded data and validating object schems. A simple example is included below."
   ]
  },
  {
   "cell_type": "code",
   "execution_count": 18,
   "metadata": {},
   "outputs": [],
   "source": [
    "def custom_parser(obj: dict[str, Any]) -> dict[str, Any]:\n",
    "    return {\n",
    "        \"subreddit\": obj[\"subreddit\"],\n",
    "        \"score\": obj[\"score\"],\n",
    "    }"
   ]
  },
  {
   "cell_type": "code",
   "execution_count": 19,
   "metadata": {},
   "outputs": [
    {
     "name": "stderr",
     "output_type": "stream",
     "text": [
      "100%|██████████| 10000/10000 [00:00<00:00, 191233.44it/s]\n"
     ]
    }
   ],
   "source": [
    "data = reader.sample(stop=10_000, parser=custom_parser)"
   ]
  },
  {
   "cell_type": "code",
   "execution_count": 20,
   "metadata": {},
   "outputs": [
    {
     "data": {
      "text/plain": [
       "[{'subreddit': 'AskReddit', 'score': 2},\n",
       " {'subreddit': 'A858DE45F56D9BC9', 'score': 5},\n",
       " {'subreddit': 'videos', 'score': 0}]"
      ]
     },
     "execution_count": 20,
     "metadata": {},
     "output_type": "execute_result"
    }
   ],
   "source": [
    "data[:3]"
   ]
  },
  {
   "cell_type": "code",
   "execution_count": 21,
   "metadata": {},
   "outputs": [],
   "source": [
    "df = pd.DataFrame(data)"
   ]
  },
  {
   "cell_type": "code",
   "execution_count": 22,
   "metadata": {},
   "outputs": [
    {
     "data": {
      "text/html": [
       "<div>\n",
       "<style scoped>\n",
       "    .dataframe tbody tr th:only-of-type {\n",
       "        vertical-align: middle;\n",
       "    }\n",
       "\n",
       "    .dataframe tbody tr th {\n",
       "        vertical-align: top;\n",
       "    }\n",
       "\n",
       "    .dataframe thead th {\n",
       "        text-align: right;\n",
       "    }\n",
       "</style>\n",
       "<table border=\"1\" class=\"dataframe\">\n",
       "  <thead>\n",
       "    <tr style=\"text-align: right;\">\n",
       "      <th></th>\n",
       "      <th>subreddit</th>\n",
       "      <th>score</th>\n",
       "    </tr>\n",
       "  </thead>\n",
       "  <tbody>\n",
       "    <tr>\n",
       "      <th>0</th>\n",
       "      <td>AskReddit</td>\n",
       "      <td>2</td>\n",
       "    </tr>\n",
       "    <tr>\n",
       "      <th>1</th>\n",
       "      <td>A858DE45F56D9BC9</td>\n",
       "      <td>5</td>\n",
       "    </tr>\n",
       "    <tr>\n",
       "      <th>2</th>\n",
       "      <td>videos</td>\n",
       "      <td>0</td>\n",
       "    </tr>\n",
       "    <tr>\n",
       "      <th>3</th>\n",
       "      <td>tits</td>\n",
       "      <td>6</td>\n",
       "    </tr>\n",
       "    <tr>\n",
       "      <th>4</th>\n",
       "      <td>WritersRoom</td>\n",
       "      <td>1</td>\n",
       "    </tr>\n",
       "    <tr>\n",
       "      <th>5</th>\n",
       "      <td>Invites</td>\n",
       "      <td>3</td>\n",
       "    </tr>\n",
       "    <tr>\n",
       "      <th>6</th>\n",
       "      <td>FreeEBOOKS</td>\n",
       "      <td>2</td>\n",
       "    </tr>\n",
       "    <tr>\n",
       "      <th>7</th>\n",
       "      <td>foxes</td>\n",
       "      <td>5</td>\n",
       "    </tr>\n",
       "    <tr>\n",
       "      <th>8</th>\n",
       "      <td>politics</td>\n",
       "      <td>1</td>\n",
       "    </tr>\n",
       "    <tr>\n",
       "      <th>9</th>\n",
       "      <td>Meditation</td>\n",
       "      <td>6</td>\n",
       "    </tr>\n",
       "  </tbody>\n",
       "</table>\n",
       "</div>"
      ],
      "text/plain": [
       "          subreddit  score\n",
       "0         AskReddit      2\n",
       "1  A858DE45F56D9BC9      5\n",
       "2            videos      0\n",
       "3              tits      6\n",
       "4       WritersRoom      1\n",
       "5           Invites      3\n",
       "6        FreeEBOOKS      2\n",
       "7             foxes      5\n",
       "8          politics      1\n",
       "9        Meditation      6"
      ]
     },
     "execution_count": 22,
     "metadata": {},
     "output_type": "execute_result"
    }
   ],
   "source": [
    "df.head(10)"
   ]
  },
  {
   "cell_type": "code",
   "execution_count": 23,
   "metadata": {},
   "outputs": [
    {
     "data": {
      "text/plain": [
       "subreddit\n",
       "funny              390\n",
       "AskReddit          387\n",
       "pics               265\n",
       "leagueoflegends    244\n",
       "AdviceAnimals      240\n",
       "gaming             176\n",
       "aww                141\n",
       "POLITIC            122\n",
       "WTF                113\n",
       "videos             108\n",
       "Name: count, dtype: int64"
      ]
     },
     "execution_count": 23,
     "metadata": {},
     "output_type": "execute_result"
    }
   ],
   "source": [
    "# count the number of submissions from each subreddit in this small sample\n",
    "post_count = df[\"subreddit\"].value_counts()\n",
    "post_count.head(10)"
   ]
  },
  {
   "cell_type": "code",
   "execution_count": 24,
   "metadata": {},
   "outputs": [],
   "source": [
    "# get the average score per post for each subreddit, for subreddits where the post count >= 100 in this sample\n",
    "mean_post_score = (\n",
    "    (df.groupby(\"subreddit\").sum() / df.groupby(\"subreddit\").count())\n",
    "    .sort_values(by=\"score\", ascending=False)\n",
    "    .reset_index()\n",
    ")\n",
    "only_subreddits = post_count[post_count >= 100].index.tolist()\n",
    "mean_post_score = mean_post_score[\n",
    "    mean_post_score[\"subreddit\"].apply(lambda x: x in only_subreddits)\n",
    "].reset_index(drop=True)\n",
    "mean_post_score.columns = [\"subreddit\", \"avg_post_score\"]"
   ]
  },
  {
   "cell_type": "code",
   "execution_count": 25,
   "metadata": {},
   "outputs": [
    {
     "data": {
      "text/html": [
       "<div>\n",
       "<style scoped>\n",
       "    .dataframe tbody tr th:only-of-type {\n",
       "        vertical-align: middle;\n",
       "    }\n",
       "\n",
       "    .dataframe tbody tr th {\n",
       "        vertical-align: top;\n",
       "    }\n",
       "\n",
       "    .dataframe thead th {\n",
       "        text-align: right;\n",
       "    }\n",
       "</style>\n",
       "<table border=\"1\" class=\"dataframe\">\n",
       "  <thead>\n",
       "    <tr style=\"text-align: right;\">\n",
       "      <th></th>\n",
       "      <th>subreddit</th>\n",
       "      <th>avg_post_score</th>\n",
       "    </tr>\n",
       "  </thead>\n",
       "  <tbody>\n",
       "    <tr>\n",
       "      <th>0</th>\n",
       "      <td>WTF</td>\n",
       "      <td>86.690265</td>\n",
       "    </tr>\n",
       "    <tr>\n",
       "      <th>1</th>\n",
       "      <td>funny</td>\n",
       "      <td>65.984615</td>\n",
       "    </tr>\n",
       "    <tr>\n",
       "      <th>2</th>\n",
       "      <td>AdviceAnimals</td>\n",
       "      <td>63.383333</td>\n",
       "    </tr>\n",
       "    <tr>\n",
       "      <th>3</th>\n",
       "      <td>gaming</td>\n",
       "      <td>57.176136</td>\n",
       "    </tr>\n",
       "    <tr>\n",
       "      <th>4</th>\n",
       "      <td>pics</td>\n",
       "      <td>51.633962</td>\n",
       "    </tr>\n",
       "    <tr>\n",
       "      <th>5</th>\n",
       "      <td>aww</td>\n",
       "      <td>42.595745</td>\n",
       "    </tr>\n",
       "    <tr>\n",
       "      <th>6</th>\n",
       "      <td>leagueoflegends</td>\n",
       "      <td>16.028689</td>\n",
       "    </tr>\n",
       "    <tr>\n",
       "      <th>7</th>\n",
       "      <td>videos</td>\n",
       "      <td>12.768519</td>\n",
       "    </tr>\n",
       "    <tr>\n",
       "      <th>8</th>\n",
       "      <td>AskReddit</td>\n",
       "      <td>5.780362</td>\n",
       "    </tr>\n",
       "    <tr>\n",
       "      <th>9</th>\n",
       "      <td>fantasyfootball</td>\n",
       "      <td>3.932692</td>\n",
       "    </tr>\n",
       "    <tr>\n",
       "      <th>10</th>\n",
       "      <td>POLITIC</td>\n",
       "      <td>1.204918</td>\n",
       "    </tr>\n",
       "  </tbody>\n",
       "</table>\n",
       "</div>"
      ],
      "text/plain": [
       "          subreddit  avg_post_score\n",
       "0               WTF       86.690265\n",
       "1             funny       65.984615\n",
       "2     AdviceAnimals       63.383333\n",
       "3            gaming       57.176136\n",
       "4              pics       51.633962\n",
       "5               aww       42.595745\n",
       "6   leagueoflegends       16.028689\n",
       "7            videos       12.768519\n",
       "8         AskReddit        5.780362\n",
       "9   fantasyfootball        3.932692\n",
       "10          POLITIC        1.204918"
      ]
     },
     "execution_count": 25,
     "metadata": {},
     "output_type": "execute_result"
    }
   ],
   "source": [
    "mean_post_score"
   ]
  }
 ],
 "metadata": {
  "kernelspec": {
   "display_name": "redarch",
   "language": "python",
   "name": "python3"
  },
  "language_info": {
   "codemirror_mode": {
    "name": "ipython",
    "version": 3
   },
   "file_extension": ".py",
   "mimetype": "text/x-python",
   "name": "python",
   "nbconvert_exporter": "python",
   "pygments_lexer": "ipython3",
   "version": "3.11.9"
  }
 },
 "nbformat": 4,
 "nbformat_minor": 2
}
